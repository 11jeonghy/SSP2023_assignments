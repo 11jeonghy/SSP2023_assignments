{
 "cells": [
  {
   "attachments": {},
   "cell_type": "markdown",
   "metadata": {},
   "source": [
    "# Interpolation and Decimation"
   ]
  },
  {
   "attachments": {},
   "cell_type": "markdown",
   "metadata": {},
   "source": [
    "Import libraries"
   ]
  },
  {
   "cell_type": "code",
   "execution_count": 1,
   "metadata": {},
   "outputs": [],
   "source": [
    "import librosa\n",
    "import matplotlib.pyplot as plt\n",
    "import scipy\n",
    "import soundfile\n",
    "import numpy as np"
   ]
  },
  {
   "attachments": {},
   "cell_type": "markdown",
   "metadata": {},
   "source": [
    "Define interpolation"
   ]
  },
  {
   "cell_type": "code",
   "execution_count": 2,
   "metadata": {},
   "outputs": [],
   "source": [
    "def interpolate(file, Fs, target_Fs, name, dir):\n",
    "    factor = int(target_Fs/Fs)\n",
    "    data = librosa.core.load(file, sr=Fs)[0]\n",
    "    target_samples = int(len(data)*target_Fs/Fs)\n",
    "    interp_data = np.zeros(target_samples)\n",
    "    for i in range(len(data)):\n",
    "        addr = int(i*target_samples/len(data))\n",
    "        j=0\n",
    "        while(addr<(i+1)*target_samples/len(data)):\n",
    "            interp_data[addr] = data[i] \n",
    "            j += 1\n",
    "            addr += 1\n",
    "            \n",
    "    filter = scipy.signal.firwin(51, Fs/2, fs=Fs*factor, pass_zero='lowpass')\n",
    "    filtered_data = scipy.signal.lfilter(b=filter, a=filter[0] ,x=interp_data/100)\n",
    "    soundfile.write(dir+'%s_interpolated_%s_to_%s.wav'%(name,Fs,target_Fs), filtered_data/10, target_Fs)\n",
    "    return filtered_data/10"
   ]
  },
  {
   "cell_type": "markdown",
   "metadata": {},
   "source": [
    "Define Decimation"
   ]
  },
  {
   "cell_type": "code",
   "execution_count": 7,
   "metadata": {},
   "outputs": [],
   "source": [
    "def decimate(file, Fs, target_Fs,name, dir):\n",
    "    factor = int(Fs/target_Fs)\n",
    "    data = librosa.core.load(file, sr=Fs)[0]\n",
    "    \n",
    "    filter = scipy.signal.firwin(51, target_Fs/2, fs=Fs, pass_zero='lowpass')\n",
    "    filtered_data = scipy.signal.lfilter(b=filter, a=filter[0] ,x=data/100)\n",
    "    \n",
    "    count = 0\n",
    "    decim_data = np.zeros(int(target_Fs*len(data)/Fs))\n",
    "    for i in range(len(data)):\n",
    "        if i > count*Fs/target_Fs:\n",
    "            if count<len(decim_data):\n",
    "                decim_data[count] = filtered_data[i]\n",
    "                count += 1\n",
    "    \n",
    "    soundfile.write(dir+'%s_decimated_%s_to_%s.wav'%(name, Fs,target_Fs), decim_data/10, target_Fs)\n",
    "    return decim_data/10"
   ]
  },
  {
   "attachments": {},
   "cell_type": "markdown",
   "metadata": {},
   "source": [
    "Application"
   ]
  },
  {
   "cell_type": "code",
   "execution_count": 8,
   "metadata": {},
   "outputs": [],
   "source": [
    "import os\n",
    "path = '/Users/user/Library/CloudStorage/OneDrive-knu.ac.kr/20231/대학원_장길진_음성신호처리실습/ssp2023/lab01/segmented/'\n",
    "folders = os.listdir(path)\n",
    "for folder in folders:\n",
    "    try: files = os.listdir(path + folder)\n",
    "    except: continue\n",
    "    for file in files:\n",
    "        for item in [32000,48000,44100]:\n",
    "            interpolate(path+folder+'/'+file,16000,item,file,'./interpolation_results/'+folder+'/')\n",
    "            for item2 in [8000,11000]:\n",
    "                decimate('./interpolation_results/'+folder+'/'+file+'_interpolated_16000_to_'+str(item)+'.wav',item,item2,file,'./decimation_results/'+folder+'/')"
   ]
  },
  {
   "cell_type": "code",
   "execution_count": 106,
   "metadata": {},
   "outputs": [],
   "source": [
    "for item in [32000, 48000, 44100]:\n",
    "    interpolate('kdigits0-3.wav', 16000, item)\n",
    "for item in [32000, 48000, 44100]:\n",
    "    for item2 in [8000, 11000]:\n",
    "        decimate('interpolated_16000_%s.wav'%item,item,item2)"
   ]
  }
 ],
 "metadata": {
  "kernelspec": {
   "display_name": "audio.venv",
   "language": "python",
   "name": "python3"
  },
  "language_info": {
   "codemirror_mode": {
    "name": "ipython",
    "version": 3
   },
   "file_extension": ".py",
   "mimetype": "text/x-python",
   "name": "python",
   "nbconvert_exporter": "python",
   "pygments_lexer": "ipython3",
   "version": "3.9.16"
  },
  "orig_nbformat": 4
 },
 "nbformat": 4,
 "nbformat_minor": 2
}
