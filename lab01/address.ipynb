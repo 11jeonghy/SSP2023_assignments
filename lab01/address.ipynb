{
 "cells": [
  {
   "cell_type": "code",
   "execution_count": 1,
   "metadata": {},
   "outputs": [],
   "source": [
    "import os\n",
    "import sys"
   ]
  },
  {
   "cell_type": "code",
   "execution_count": 6,
   "metadata": {},
   "outputs": [],
   "source": [
    "items = []\n",
    "folders = os.listdir('./segmented/')\n",
    "for folder in folders:\n",
    "    try: files = os.listdir('./segmented/' + folder)\n",
    "    except: continue\n",
    "    path = './segmented/' + folder + '/'\n",
    "    for file in files:\n",
    "        os.rename(path + file, path + 'kdigits' + file)"
   ]
  }
 ],
 "metadata": {
  "kernelspec": {
   "display_name": "audio.venv",
   "language": "python",
   "name": "python3"
  },
  "language_info": {
   "codemirror_mode": {
    "name": "ipython",
    "version": 3
   },
   "file_extension": ".py",
   "mimetype": "text/x-python",
   "name": "python",
   "nbconvert_exporter": "python",
   "pygments_lexer": "ipython3",
   "version": "3.9.16"
  },
  "orig_nbformat": 4
 },
 "nbformat": 4,
 "nbformat_minor": 2
}
