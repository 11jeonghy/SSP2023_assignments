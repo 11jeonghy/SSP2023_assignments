{
 "cells": [
  {
   "cell_type": "code",
   "execution_count": 566,
   "metadata": {},
   "outputs": [],
   "source": [
    "### import libraries\n",
    "\n",
    "import librosa\n",
    "import numpy as np"
   ]
  },
  {
   "cell_type": "code",
   "execution_count": 567,
   "metadata": {},
   "outputs": [],
   "source": [
    "### define frame-related constants\n",
    "\n",
    "Fs = 16000\n",
    "frame_length = 0.01\n",
    "frame_shift = 0.01\n",
    "frame_size = int(frame_length * Fs)\n",
    "frame_shift_size = int(frame_shift * Fs)"
   ]
  },
  {
   "cell_type": "code",
   "execution_count": 568,
   "metadata": {},
   "outputs": [],
   "source": [
    "def pre_emphasis(signal, alpha=0.97):\n",
    "    \"\"\"\n",
    "    Applies a pre-emphasis filter to the signal.\n",
    "\n",
    "    Args:\n",
    "        signal: The input signal.\n",
    "        alpha: The pre-emphasis coefficient.\n",
    "\n",
    "    Returns:\n",
    "        The pre-emphasized signal.\n",
    "    \"\"\"\n",
    "    #for i in range(1, len(signal)):\n",
    "    #    signal[i] -= alpha * signal[i - 1]\n",
    "    #return signal\n",
    "    return np.append(signal[0], signal[1:] - alpha * signal[:-1])\n",
    "    \n",
    "def noise_addition(signal, epsilon=1e-3):\n",
    "    \"\"\"\n",
    "    Adds white noise to the signal.\n",
    "\n",
    "    Args:\n",
    "        signal: The input signal.\n",
    "        epsilon: The noise coefficient.\n",
    "\n",
    "    Returns:\n",
    "        The signal with added noise.\n",
    "    \"\"\"\n",
    "    return signal + epsilon * np.random.randn()\n",
    "\n",
    "def autocorrelation(signal):\n",
    "    \"\"\"\n",
    "    Calculates the autocorrelation of the signal.\n",
    "\n",
    "    Args:\n",
    "        signal: The input signal.\n",
    "\n",
    "    Returns:\n",
    "        The autocorrelation coefficients.\n",
    "    \"\"\"\n",
    "    r = np.zeros(len(signal))\n",
    "    for k in range(len(signal)):\n",
    "        for i in range(len(signal) - k):\n",
    "            r[k] += signal[i] * signal[i + k]\n",
    "    return r\n",
    "\n",
    "def lpc_coefficients(signal, order=10):\n",
    "    \"\"\"\n",
    "    Calculates the LPC coefficients of the signal.\n",
    "\n",
    "    Args:\n",
    "        signal: The input signal.\n",
    "        order: The order of the LPC model.\n",
    "\n",
    "    Returns:\n",
    "        The LPC coefficients.\n",
    "    \"\"\"\n",
    "    signal = signal * np.hamming(len(signal))\n",
    "    r = librosa.lpc(signal, order=order)\n",
    "    return r\n",
    "    \n",
    "def deemphasize(signal):\n",
    "    \"\"\"\n",
    "    Applies a deemphasis filter to the signal.\n",
    "\n",
    "    Args:\n",
    "        signal: The input signal.\n",
    "\n",
    "    Returns:\n",
    "        The deemphasized signal.\n",
    "    \"\"\"\n",
    "    return np.append(signal[0], signal[1:] + signal[:-1])\n",
    "\n",
    "def SNR(signal, approximated_signal):\n",
    "    \"\"\"\n",
    "    Calculates the SNR of the signal.\n",
    "\n",
    "    Args:\n",
    "        signal: The input signal.\n",
    "        approximated_signal: The approximated signal.\n",
    "\n",
    "    Returns:\n",
    "        The SNR.\n",
    "    \"\"\"\n",
    "    return 10 * np.log10(np.sum(signal ** 2) / np.sum((signal - approximated_signal) ** 2))"
   ]
  },
  {
   "cell_type": "code",
   "execution_count": 569,
   "metadata": {},
   "outputs": [],
   "source": [
    "import numpy as np\n",
    "from scipy.signal import lfilter\n",
    "\n",
    "def decode(a, excitation, order=16):\n",
    "    \"\"\"\n",
    "    Decodes the signal using LPC.\n",
    "\n",
    "    Args:\n",
    "        a: The encoded signal.\n",
    "        excitation: The excitation signal.\n",
    "        order: The order of the LPC model.\n",
    "\n",
    "    Returns:\n",
    "        The decoded signal.\n",
    "    \"\"\"\n",
    "\n",
    "    # Create a signal of zeros with the same length as the encoded signal.\n",
    "    signal = np.zeros(len(a))\n",
    "\n",
    "    # Fill the signal with the encoded coefficients.\n",
    "    for k in range(len(a)):\n",
    "        signal[k] = a[k]\n",
    "\n",
    "    # Filter the signal with the LPC coefficients.\n",
    "    signal = lfilter([1], a, signal)\n",
    "\n",
    "    # Add the excitation signal.\n",
    "    signal += excitation\n",
    "\n",
    "    # Return the decoded signal.\n",
    "    return signal"
   ]
  },
  {
   "cell_type": "code",
   "execution_count": 573,
   "metadata": {},
   "outputs": [
    {
     "name": "stdout",
     "output_type": "stream",
     "text": [
      "SNR = -2.0089330478719\n"
     ]
    }
   ],
   "source": [
    "signal, Fs = librosa.load('test.wav', sr=None)\n",
    "\n",
    "### divide the signal into frames\n",
    "n_frames = int(np.ceil(len(signal) / frame_shift_size))\n",
    "frames = np.zeros((n_frames, frame_size))\n",
    "for i in range(n_frames):\n",
    "    frame = np.zeros(frame_size)\n",
    "    start = i * frame_shift_size\n",
    "    end = min(len(signal), start + frame_size)\n",
    "    frame[:end - start] = signal[start:end]\n",
    "    frames[i] = frame\n",
    "\n",
    "### apply preemphasis and noise addition\n",
    "for i in range(n_frames):\n",
    "    frames[i] = pre_emphasis(frames[i])\n",
    "    frames[i] = noise_addition(frames[i])\n",
    "\n",
    "### create a matrix of LPC coefficients\n",
    "order = 10\n",
    "coefficients = np.zeros((n_frames, order))\n",
    "coefficients[0] = lpc_coefficients(frames[0], order)[1:]\n",
    "for i in range(2, n_frames):\n",
    "    # combine the current frame with the previous frame\n",
    "    f1 = frames[i - 1]\n",
    "    f2 = frames[i]\n",
    "    f = np.append(f1, f2)\n",
    "    f = np.hamming(len(f)) * f\n",
    "    coefficients[i] = lpc_coefficients(f, order)[1:]\n",
    "\n",
    "### encode the signal using LPC\n",
    "excitation = np.zeros((n_frames, frame_size))\n",
    "for i in range(n_frames):\n",
    "    e = np.convolve(coefficients[i], frames[i], mode='same')\n",
    "    excitation[i] = e\n",
    "    \n",
    "### decode the signal using the lpc coefficients and the original framed signal\n",
    "decoded = np.zeros((n_frames, frame_size))\n",
    "for i in range(n_frames):\n",
    "    d = np.convolve(coefficients[i], excitation[i], mode='same')\n",
    "    decoded[i] = d\n",
    "    \n",
    "#decoded = np.zeros((n_frames, frame_size))\n",
    "#for i in range(n_frames):\n",
    "#    d = decode(coefficients[i], excitation[i], order=order)\n",
    "#    decoded[i] = d\n",
    "\n",
    "### deemphasize the signal\n",
    "decoded = decoded.flatten()\n",
    "decoded = deemphasize(decoded)\n",
    "decoded = decoded[:len(signal)]\n",
    "\n",
    "### detect divergence and correct it\n",
    "for i in range(len(decoded)):\n",
    "    if np.abs(decoded[i]) > 0.05:\n",
    "        decoded[i] = decoded[i-1]\n",
    "\n",
    "### calculate the SNR\n",
    "res = SNR(signal, decoded)\n",
    "print('SNR =', res)\n",
    "\n",
    "### write the decoded signal to a file\n",
    "import scipy.io.wavfile\n",
    "scipy.io.wavfile.write('decoded.wav', Fs, decoded)\n"
   ]
  },
  {
   "cell_type": "code",
   "execution_count": 574,
   "metadata": {},
   "outputs": [
    {
     "data": {
      "text/plain": [
       "[<matplotlib.lines.Line2D at 0x16bc76fb0>]"
      ]
     },
     "execution_count": 574,
     "metadata": {},
     "output_type": "execute_result"
    },
    {
     "data": {
      "image/png": "[encoded data removed]",
      "text/plain": [
       "<Figure size 640x480 with 1 Axes>"
      ]
     },
     "metadata": {},
     "output_type": "display_data"
    }
   ],
   "source": [
    "import matplotlib.pyplot as plt\n",
    "plt.plot(signal)\n",
    "plt.plot(decoded)"
   ]
  },
  {
   "cell_type": "code",
   "execution_count": 577,
   "metadata": {},
   "outputs": [
    {
     "name": "stdout",
     "output_type": "stream",
     "text": [
      "[[-0.59190173 -0.24831245  0.19433049 ... -0.05053699  0.18086534\n",
      "   0.11189661]\n",
      " [ 0.          0.          0.         ...  0.          0.\n",
      "   0.        ]\n",
      " [-0.90937274 -0.11913949  0.08909855 ...  0.15116291 -0.13878943\n",
      "   0.07514264]\n",
      " ...\n",
      " [-0.8899328  -0.13063632  0.02446326 ...  0.04692463  0.01751626\n",
      "  -0.0143183 ]\n",
      " [-0.90126796 -0.1335931   0.05610215 ...  0.02223575 -0.00633577\n",
      "   0.02273494]\n",
      " [-0.86839935 -0.15672532  0.07653852 ...  0.07711874 -0.11658416\n",
      "   0.11041811]]\n"
     ]
    }
   ],
   "source": [
    "print(coefficients)"
   ]
  }
 ],
 "metadata": {
  "kernelspec": {
   "display_name": "asr",
   "language": "python",
   "name": "python3"
  },
  "language_info": {
   "codemirror_mode": {
    "name": "ipython",
    "version": 3
   },
   "file_extension": ".py",
   "mimetype": "text/x-python",
   "name": "python",
   "nbconvert_exporter": "python",
   "pygments_lexer": "ipython3",
   "version": "3.10.10"
  },
  "orig_nbformat": 4
 },
 "nbformat": 4,
 "nbformat_minor": 2
}
